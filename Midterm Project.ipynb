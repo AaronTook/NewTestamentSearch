{
 "cells": [
  {
   "cell_type": "markdown",
   "id": "e4977e5b",
   "metadata": {},
   "source": [
    "# Midterm Project - CIS 2266\n",
    "<br>\n",
    "\n",
    "## AaronTook (https://github.com/aarontook/)\n",
    "### 2/29/2024\n",
    "\n",
    "#### User Instructions: Run all code cells from top of notebook to bottom. The final code cell will start the application, but all prior cells must be run first to load necessary functions.\n",
    "#### Alternatively, you can simply press the \"Restart & Run All\" option in the Kernel dropdown."
   ]
  },
  {
   "cell_type": "markdown",
   "id": "5cd129ae",
   "metadata": {},
   "source": [
    "## Project Title: New Testament Search\n",
    "## Project Description: Allow the user to search for words or phrases in the New Testament of the King James Version Bible.\n",
    "\n",
    "<hr>\n",
    "\n",
    "### A brief note regarding the text file containing the KJV text.\n",
    "#### The base source of the file was found at https://openbible.com/textfiles/kjv.txt, but was modified.\n",
    "#### This is because in its original form, the document caused an \"IOPub data rate exceeded\" error in Jupyter. \n",
    "#### To solve this issue, I removed the Old Testament (Genesis - Malachi), leaving only the New Testament (Matthew - Revelation). Were it not for Jupyter's limitations, however, this program should work for the original Bible text file.\n",
    "#### The version of the text file submitted with this .ipynb is already correctly modified, but must be in the same directory as this file, otherwise the code will not be able to find the necessary source file.\n",
    "\n",
    "<hr>\n",
    "\n",
    "## How to use the program:\n",
    "### Inputs: \n",
    "\n",
    "#### During each round of the main program loop, you will be prompted for input of any text. You can enter \"q\" at any of these inputs to exit the program, otherwise, any text will be processed by the program.\n",
    "\n",
    "### Outputs: \n",
    "#### The program will look for a list of verses in the New Testament that contain your input text (or very similar texts), and will display the list of verse references to you. Depending on the number of results, you may be asked if you want to see all of the references, or you may be informed that there are no verses with your input text in them.\n",
    "\n",
    "<hr>\n",
    "\n",
    "## Known outcome sample test data:\n",
    "#### For \"No Results\" output case: \"not-a-word\"\n",
    "#### For \"Less than 51 Results\" output case: \"holiness\", \"Timothy\", \"saviour\"\n",
    "#### For \"More than 50 Results\" output case: \"Paul\", \"Christ\", \"Grace\""
   ]
  },
  {
   "cell_type": "markdown",
   "id": "9c8c2cf5",
   "metadata": {},
   "source": [
    "## Define the load_new_testament() function, which is used to get the file data."
   ]
  },
  {
   "cell_type": "code",
   "execution_count": 1,
   "id": "99fb765b",
   "metadata": {},
   "outputs": [],
   "source": [
    "def load_new_testament():\n",
    "    \"\"\" Load the verses of the New Testament from the source file. \"\"\"\n",
    "    verses = {}\n",
    "    with open(\"kjv.txt\", 'r') as new_testament: # Open the source file.\n",
    "        for verse in new_testament.readlines(): # Iterate through each line.\n",
    "            parts = verse.split(\"\\t\")\n",
    "            if len(parts) == 2: # Ignore any lines that do not have a reference and text separated by a tab.\n",
    "                ref = parts[0]\n",
    "                text = parts[1].strip().replace(\"[\",\"\").replace(\"]\",\"\") # Remove any whitespace and \"[\" or \"]\" characters.\n",
    "                verses[ref] = text # Add the verse to the list of verses\n",
    "    return verses # Return the complete set of verses."
   ]
  },
  {
   "cell_type": "markdown",
   "id": "528f2a35",
   "metadata": {},
   "source": [
    "## Define the format_for_match(format_string) function, which is used to format either a verse or search query so that when both are formatted via this function, they will match regardless of punctuation or capitalization."
   ]
  },
  {
   "cell_type": "code",
   "execution_count": 2,
   "id": "43cf900f",
   "metadata": {},
   "outputs": [],
   "source": [
    "def format_for_match(format_string):\n",
    "    \"\"\" Remove the punctuation and whitespace from the formatted string, and make every character lowercase. \"\"\"\n",
    "    chars_to_remove = list(\"[](),.?!;:\")\n",
    "    for char_to_remove in chars_to_remove: # Remove the punctuation in the string.\n",
    "        format_string = format_string.replace(char_to_remove, \"\")\n",
    "    formatted_string = format_string.lower().strip() # Remove whitespace and capitalization.\n",
    "    return formatted_string"
   ]
  },
  {
   "cell_type": "markdown",
   "id": "72eea1fa",
   "metadata": {},
   "source": [
    "## Define the get_verses_with_phrase(search_string, verses_dictionary) function, which is used to create and return a list containing the references of all verses that contain search_string."
   ]
  },
  {
   "cell_type": "code",
   "execution_count": 3,
   "id": "f65509c8",
   "metadata": {},
   "outputs": [],
   "source": [
    "def get_verses_with_phrase(search_string, verses_dictionary):\n",
    "    \"\"\" Find any verses that contain the desired search string and return a list of their references. \"\"\"\n",
    "    references = []\n",
    "    for ref, verse in verses_dictionary.items(): # Iterate through each verse in the verses_dictionary.\n",
    "        if format_for_match(search_string) in format_for_match(verse): # If we have a match (ignore minor differences).\n",
    "            references.append(ref) # Add the reference to the list of matches.\n",
    "    return references"
   ]
  },
  {
   "cell_type": "markdown",
   "id": "068ab843",
   "metadata": {},
   "source": [
    "## Run the main application. First load the dataset, then start the program loop until terminated by the user. During the program loop, gather necessary inputs, process them, and cohesively format all output for display to the user."
   ]
  },
  {
   "cell_type": "code",
   "execution_count": 4,
   "id": "19bebe2c",
   "metadata": {},
   "outputs": [
    {
     "name": "stdout",
     "output_type": "stream",
     "text": [
      "Welcome to the New Testament Search tool!\n",
      "Enter \"q\" when you would like to exit.\n",
      "\n",
      "What text would you like to search for in the New Testament? Enter \"q\" to exit.\n",
      "Text: teaching\n",
      "Text was found in the 23 following verse(s): \n",
      "Matthew 4:23; Matthew 9:35; Matthew 15:9; Matthew 21:23; Matthew 26:55; Matthew 28:20; Mark 6:6; Mark 7:7; Mark 14:49; Luke 5:17; Luke 13:10; Luke 13:22; Luke 21:37; Luke 23:5; Acts 5:25; Acts 15:35; Acts 18:11; Acts 28:31; Romans 12:7; Colossians 1:28; Colossians 3:16; Titus 1:11; Titus 2:12; \n",
      "\n",
      "\n",
      "What text would you like to search for in the New Testament? Enter \"q\" to exit.\n",
      "Text: test\n",
      "Text was found in 114 verses in the New Testament.\n",
      "Would you like to see all of the verses where the text was found? (y/n): n\n",
      "\n",
      "\n",
      "\n",
      "What text would you like to search for in the New Testament? Enter \"q\" to exit.\n",
      "Text: notaword\n",
      "Text was not found in the New Testament.\n",
      "\n",
      "What text would you like to search for in the New Testament? Enter \"q\" to exit.\n",
      "Text: not-a-word\n",
      "Text was not found in the New Testament.\n",
      "\n",
      "What text would you like to search for in the New Testament? Enter \"q\" to exit.\n",
      "Text: q\n",
      "Thank you for using the New Testament Search tool!\n"
     ]
    }
   ],
   "source": [
    "dataset = load_new_testament()\n",
    "\n",
    "print(\"Welcome to the New Testament Search tool!\") # Display the welcome message.\n",
    "print(\"Enter \\\"q\\\" when you would like to exit.\\n\")\n",
    "while True:\n",
    "    user_input = input(\"What text would you like to search for in the New Testament? Enter \\\"q\\\" to exit.\\nText: \")\n",
    "    if user_input == \"q\": # The user wishes to exit the program.\n",
    "        print(\"Thank you for using the New Testament Search tool!\")\n",
    "        break\n",
    "    query_results = get_verses_with_phrase(user_input, dataset)\n",
    "    result_count = len(query_results) # Use an int to represent the number of verses with the text.\n",
    "    if result_count == 0: # The text was not found.\n",
    "        print(\"Text was not found in the New Testament.\\n\")\n",
    "    elif result_count <= 50: # The text was found a relatively low number of times.\n",
    "        print(f\"Text was found in the {result_count} following verse(s): \")\n",
    "        for reference in query_results:\n",
    "            print(reference, end=\"; \")\n",
    "        print(\"\\n\\n\")\n",
    "    else: # The text was found many times, ask if the user wants to see all the references.\n",
    "        print(f\"Text was found in {result_count} verses in the New Testament.\")\n",
    "        see_many = input(\"Would you like to see all of the verses where the text was found? (y/n): \")\n",
    "        if see_many.lower() == \"y\":\n",
    "            print(\"Text was found in the following verses: \")\n",
    "            for reference in query_results:\n",
    "                print(reference, end=\"; \")\n",
    "        print(\"\\n\\n\")\n",
    "    "
   ]
  }
 ],
 "metadata": {
  "kernelspec": {
   "display_name": "Python 3 (ipykernel)",
   "language": "python",
   "name": "python3"
  },
  "language_info": {
   "codemirror_mode": {
    "name": "ipython",
    "version": 3
   },
   "file_extension": ".py",
   "mimetype": "text/x-python",
   "name": "python",
   "nbconvert_exporter": "python",
   "pygments_lexer": "ipython3",
   "version": "3.11.5"
  }
 },
 "nbformat": 4,
 "nbformat_minor": 5
}
